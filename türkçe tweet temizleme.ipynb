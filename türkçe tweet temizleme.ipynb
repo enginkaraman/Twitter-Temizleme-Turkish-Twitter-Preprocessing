{
 "cells": [
  {
   "cell_type": "code",
   "execution_count": 51,
   "metadata": {},
   "outputs": [],
   "source": [
    "import re   # tweet preprocessing için kullanılan en yaygın kütüphane "
   ]
  },
  {
   "cell_type": "markdown",
   "metadata": {},
   "source": [
    "Türkçe tweet temizlemede en büyük sorun 're' kütüphanesinin ingilizce karakterlere göre düzenlenmesidir. Bu yüzden temizleme işleminde kullanmak üzere Türkçeye özel Büyük-küçük harf değişimini sağlamak önem kazanmaktadır. Örneğin 'ÇEŞİT' kelimesine .lower()fonksiyonu uygulandığında ''çeşi̇'t' ya da İĞNE = 'i̇'ğne' olmakta ve sorun teşil etmektedir. \n",
    "\n",
    "Bunu çözmek için Türkçe karekterlerinde düzgün dönüşüme uğrayacağı bir fonksiyon tanımlanmalıdır. "
   ]
  },
  {
   "cell_type": "code",
   "execution_count": 52,
   "metadata": {},
   "outputs": [],
   "source": [
    "def kucult(text):\n",
    "    \n",
    "    str      = text\n",
    "    liste   = ''\n",
    "    DIZI = [('İ','i'), ('Ğ','ğ'),('Ü','ü'), ('Ş','ş'),\n",
    "            ('Ö','ö'),('Ç','ç'), ('I','ı')]\n",
    "    for liste, harf in DIZI:\n",
    "        str  = str.replace(liste, harf)\n",
    "        str = str.lower()\n",
    "        \n",
    "    return str\n"
   ]
  },
  {
   "cell_type": "markdown",
   "metadata": {},
   "source": [
    "Şimdi Tweetlerde geçen ve cümleye anlam katmayan gereksiz kelimeler, uzantılar ve hastag vb.. ifadeleri cümleden atarak yalın ve anlaşılır bir metin ortaya çıkarmak için bir fonksiyon oluşturulacaktır.  "
   ]
  },
  {
   "cell_type": "code",
   "execution_count": 53,
   "metadata": {},
   "outputs": [],
   "source": [
    "def clean(text):\n",
    "    \n",
    "    text=re.sub(r'@[A-Za-z0-9]+','', text)\n",
    "    text = re.sub(r'(.)\\1+', r'\\1\\1', text)\n",
    "    text=re.sub(r'https?:\\/\\/\\S+','', text)\n",
    "    text=re.sub(r'http?:\\/\\/\\S+','', text)\n",
    "    text=re.sub(r'RT[\\s]+','', text)\n",
    "    text=re.sub(r'\\n','', text)\n",
    "    text = re.sub(r\"#(\\w+)\", ' ', text)\n",
    "    text=re.sub(r'^\\x00-\\x7F]+','', text)\n",
    "    text=re.sub(r'[^A-Za-zığüşöçİĞÜŞÖÇ]+',' ', text)\n",
    "    text=re.sub(r'((https://[^\\s]+))','', text)  \n",
    "    text=kucult(text)\n",
    "    \n",
    "    return text"
   ]
  },
  {
   "cell_type": "markdown",
   "metadata": {},
   "source": [
    "# Örnek"
   ]
  },
  {
   "cell_type": "code",
   "execution_count": 54,
   "metadata": {},
   "outputs": [
    {
     "data": {
      "text/plain": [
       "'RT @ophium52: Turizm Şirketleri İnsan saĞlığından önemli değildir. Mükemmmmel.  #SınavlarErtelensin https://t.co/tQg2QF0GFI\\n\\n'"
      ]
     },
     "execution_count": 54,
     "metadata": {},
     "output_type": "execute_result"
    }
   ],
   "source": [
    "text='''RT @ophium52: Turizm Şirketleri İnsan saĞlığından önemli değildir. Mükemmmmel.  #SınavlarErtelensin https://t.co/tQg2QF0GFI\n",
    "\n",
    "'''\n",
    "text"
   ]
  },
  {
   "cell_type": "code",
   "execution_count": 55,
   "metadata": {},
   "outputs": [
    {
     "data": {
      "text/plain": [
       "' turizm şirketleri insan sağlığından önemli değildir mükemmel '"
      ]
     },
     "execution_count": 55,
     "metadata": {},
     "output_type": "execute_result"
    }
   ],
   "source": [
    "text=clean(text)\n",
    "text"
   ]
  },
  {
   "cell_type": "code",
   "execution_count": null,
   "metadata": {},
   "outputs": [],
   "source": []
  }
 ],
 "metadata": {
  "kernelspec": {
   "display_name": "Python 3",
   "language": "python",
   "name": "python3"
  },
  "language_info": {
   "codemirror_mode": {
    "name": "ipython",
    "version": 3
   },
   "file_extension": ".py",
   "mimetype": "text/x-python",
   "name": "python",
   "nbconvert_exporter": "python",
   "pygments_lexer": "ipython3",
   "version": "3.7.4"
  }
 },
 "nbformat": 4,
 "nbformat_minor": 2
}
